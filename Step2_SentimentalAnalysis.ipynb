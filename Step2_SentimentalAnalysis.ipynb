{
 "cells": [
  {
   "attachments": {},
   "cell_type": "markdown",
   "metadata": {},
   "source": [
    "# Sentimental Analysis\n",
    "- Separate feedbacks into positive, neutrual and negative"
   ]
  },
  {
   "attachments": {},
   "cell_type": "markdown",
   "metadata": {},
   "source": [
    "## Get Data\n",
    "Feedback sentences or un processed feedbacks"
   ]
  },
  {
   "cell_type": "code",
   "execution_count": null,
   "metadata": {},
   "outputs": [],
   "source": [
    "import pandas as pd\n",
    "import numpy as np\n",
    "fileToProcess = \"CleanedFeedbackSentences.csv\"\n",
    "\n",
    "dataset = pd.read_csv(fileToProcess)\n",
    "print(dataset.info())\n",
    "feedbackSentences = dataset['0']"
   ]
  },
  {
   "attachments": {},
   "cell_type": "markdown",
   "metadata": {},
   "source": [
    "## Get sentimental \n",
    "- VADER ( Valence Aware Dictionary for Sentiment Reasoning) is a model used for text sentiment analysis that is sensitive to both polarity (positive/negative) and intensity (strength) of emotion. It is available in the NLTK package and can be applied directly to unlabeled text data.\n",
    "- We won’t try to determine if a sentence is objective or subjective, fact or opinion. Rather, we care only if the text expresses a positive, negative or neutral opinion.\n",
    "- ref: https://towardsdatascience.com/sentimental-analysis-using-vader-a3415fef7664"
   ]
  },
  {
   "cell_type": "code",
   "execution_count": null,
   "metadata": {},
   "outputs": [],
   "source": [
    "from vaderSentiment.vaderSentiment import SentimentIntensityAnalyzer\n",
    "analyser = SentimentIntensityAnalyzer()\n",
    "\n",
    "scores = []\n",
    "for singleFeedback in feedbackSentences:\n",
    "    score = analyser.polarity_scores(singleFeedback)\n",
    "    scores.append(score)\n",
    "\n",
    "scoreDF = pd.DataFrame(scores)\n",
    "scoreDF.info()"
   ]
  },
  {
   "cell_type": "code",
   "execution_count": null,
   "metadata": {},
   "outputs": [],
   "source": [
    "def findSentiment(scoreDF):\n",
    "    if scoreDF['compound'] == 0: # marking neutral comments\n",
    "        val = 0\n",
    "    if scoreDF['compound'] > 0: # marking positive comments\n",
    "        val = 1\n",
    "    if scoreDF['compound'] < 0: # marking negative comments\n",
    "        val = -1\n",
    "    return val\n"
   ]
  },
  {
   "cell_type": "code",
   "execution_count": null,
   "metadata": {},
   "outputs": [],
   "source": [
    "scoreDF['sentiment'] = scoreDF.apply(findSentiment, axis=1)\n",
    "scoreDF['sentiment'].value_counts(normalize=1)\n"
   ]
  },
  {
   "attachments": {},
   "cell_type": "markdown",
   "metadata": {},
   "source": [
    "## Separate feedback sets"
   ]
  },
  {
   "cell_type": "code",
   "execution_count": null,
   "metadata": {},
   "outputs": [],
   "source": [
    "compoundScore = scoreDF['compound']\n",
    "\n",
    "# Positive feedbacks\n",
    "positiveFeedbacks = feedbackSentences[compoundScore > 0]\n",
    "\n",
    "positiveOutputFilename = \"Positive_\" + fileToProcess\n",
    "\n",
    "output = pd.DataFrame(positiveFeedbacks)\n",
    "positiveFeedbacks.to_csv(positiveOutputFilename)\n"
   ]
  },
  {
   "cell_type": "code",
   "execution_count": null,
   "metadata": {},
   "outputs": [],
   "source": [
    "# Negative Feedbacks\n",
    "negativeFeedbacks = feedbackSentences[compoundScore < 0]\n",
    "\n",
    "negativeOutputFilename = \"Negative_\" + fileToProcess\n",
    "\n",
    "output = pd.DataFrame(negativeFeedbacks)\n",
    "negativeFeedbacks.to_csv(negativeOutputFilename)"
   ]
  },
  {
   "cell_type": "code",
   "execution_count": null,
   "metadata": {},
   "outputs": [],
   "source": [
    "# neutral Feedbacks\n",
    "neutralFeedBacks = feedbackSentences[compoundScore == 0]\n",
    "\n",
    "neutralOutputFilename = \"Neutral_\" + fileToProcess\n",
    "\n",
    "output = pd.DataFrame(neutralFeedBacks)\n",
    "neutralFeedBacks.to_csv(neutralOutputFilename)"
   ]
  },
  {
   "cell_type": "code",
   "execution_count": null,
   "metadata": {},
   "outputs": [],
   "source": []
  }
 ],
 "metadata": {
  "kernelspec": {
   "display_name": "base",
   "language": "python",
   "name": "python3"
  },
  "language_info": {
   "codemirror_mode": {
    "name": "ipython",
    "version": 3
   },
   "file_extension": ".py",
   "mimetype": "text/x-python",
   "name": "python",
   "nbconvert_exporter": "python",
   "pygments_lexer": "ipython3",
   "version": "3.8.5 (default, Sep  3 2020, 21:29:08) [MSC v.1916 64 bit (AMD64)]"
  },
  "orig_nbformat": 4,
  "vscode": {
   "interpreter": {
    "hash": "efedefd613a9d0d6be0483e7770e06f8d402c2a7509d4785616946f786adc79f"
   }
  }
 },
 "nbformat": 4,
 "nbformat_minor": 2
}

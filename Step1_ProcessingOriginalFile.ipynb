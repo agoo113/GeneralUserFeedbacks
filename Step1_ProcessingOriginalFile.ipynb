{
 "cells": [
  {
   "attachments": {},
   "cell_type": "markdown",
   "metadata": {},
   "source": [
    "# Process original file\n",
    "- Processing NPS fils, extract and process feedback columns for further encoding. \n",
    "- The processed file will be saved into .csv file and further processed with sentimental analysis, sentence encoding and k-clustering.\n",
    "- The pre-processing does not look at NPS scores of the comments but used all the comments as a whole.\n",
    "- Some analysis can be carried on with additional filtering on NPS scores."
   ]
  },
  {
   "cell_type": "markdown",
   "metadata": {},
   "source": [
    "The processed file will be saved into .csv file and further processed with sentimental analysis, sentence encoding and k-clustering."
   ]
  },
  {
   "attachments": {},
   "cell_type": "markdown",
   "metadata": {},
   "source": [
    "## Get NPS Translated Verbatim Text"
   ]
  },
  {
   "cell_type": "code",
   "execution_count": null,
   "metadata": {},
   "outputs": [],
   "source": [
    "import pandas as pd\n",
    "import numpy as np\n",
    "\n",
    "dataset = pd.read_csv(\"userFeedbacks.csv\")\n",
    "print(dataset.info())\n"
   ]
  },
  {
   "attachments": {},
   "cell_type": "markdown",
   "metadata": {},
   "source": [
    "## Clean up Translated Verbatim Text, de-dup and drop na"
   ]
  },
  {
   "cell_type": "code",
   "execution_count": null,
   "metadata": {},
   "outputs": [],
   "source": [
    "\n",
    "dataset.dropna()\n",
    "feedbackText = dataset['UserFeedbacks']\n",
    "print(\"unprocessed number of feedbacks: \" + str(len(feedbackText)))\n",
    "feedbackText = feedbackText.drop_duplicates()\n",
    "print(\"drop dup: \" + str(len(feedbackText)))\n",
    "feedbackText = feedbackText.dropna()\n",
    "print(\"drop na: \" + str(len(feedbackText)))\n",
    "\n",
    "# Save cleaned up comments\n",
    "feedbackText.to_csv('CleanedFeedback.csv')\n",
    "\n"
   ]
  },
  {
   "attachments": {},
   "cell_type": "markdown",
   "metadata": {},
   "source": [
    "# Separate each paragraph into sentences"
   ]
  },
  {
   "cell_type": "code",
   "execution_count": null,
   "metadata": {},
   "outputs": [],
   "source": [
    "from nltk.tokenize.punkt import PunktBaseClass, PunktTrainer, PunktSentenceTokenizer\n",
    "pst = PunktSentenceTokenizer(lang_vars=None)\n",
    "feedbackTextValues = feedbackText.values\n",
    "\n",
    "feedbackSentences = []\n",
    "\n",
    "for feedbackTextValue in feedbackTextValues:\n",
    "    splitSentences = pst.tokenize(feedbackTextValue)\n",
    "    for splitSentence in splitSentences:\n",
    "        if len(splitSentence) > 10: # splited sentence should be long enough\n",
    "            feedbackSentences.append(splitSentence)\n",
    "\n",
    "print(\"Number of sentences in feedback: \" + str(len(feedbackSentences)))\n",
    "# Save cleaned up comments\n",
    "CleanedFeedbackSentencesDF = pd.DataFrame(feedbackSentences)\n",
    "CleanedFeedbackSentencesDF.to_csv('CleanedFeedbackSentences.csv')\n"
   ]
  },
  {
   "cell_type": "code",
   "execution_count": null,
   "metadata": {},
   "outputs": [],
   "source": []
  }
 ],
 "metadata": {
  "kernelspec": {
   "display_name": "base",
   "language": "python",
   "name": "python3"
  },
  "language_info": {
   "codemirror_mode": {
    "name": "ipython",
    "version": 3
   },
   "file_extension": ".py",
   "mimetype": "text/x-python",
   "name": "python",
   "nbconvert_exporter": "python",
   "pygments_lexer": "ipython3",
   "version": "3.8.5 (default, Sep  3 2020, 21:29:08) [MSC v.1916 64 bit (AMD64)]"
  },
  "orig_nbformat": 4,
  "vscode": {
   "interpreter": {
    "hash": "efedefd613a9d0d6be0483e7770e06f8d402c2a7509d4785616946f786adc79f"
   }
  }
 },
 "nbformat": 4,
 "nbformat_minor": 2
}
